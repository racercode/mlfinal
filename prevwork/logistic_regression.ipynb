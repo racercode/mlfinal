{
 "cells": [
  {
   "cell_type": "code",
   "execution_count": 1,
   "metadata": {},
   "outputs": [
    {
     "name": "stderr",
     "output_type": "stream",
     "text": [
      "2024-11-30 11:44:26.571037: I tensorflow/core/util/port.cc:113] oneDNN custom operations are on. You may see slightly different numerical results due to floating-point round-off errors from different computation orders. To turn them off, set the environment variable `TF_ENABLE_ONEDNN_OPTS=0`.\n",
      "2024-11-30 11:44:26.573014: I external/local_tsl/tsl/cuda/cudart_stub.cc:31] Could not find cuda drivers on your machine, GPU will not be used.\n",
      "2024-11-30 11:44:26.604127: E external/local_xla/xla/stream_executor/cuda/cuda_dnn.cc:9261] Unable to register cuDNN factory: Attempting to register factory for plugin cuDNN when one has already been registered\n",
      "2024-11-30 11:44:26.604164: E external/local_xla/xla/stream_executor/cuda/cuda_fft.cc:607] Unable to register cuFFT factory: Attempting to register factory for plugin cuFFT when one has already been registered\n",
      "2024-11-30 11:44:26.605030: E external/local_xla/xla/stream_executor/cuda/cuda_blas.cc:1515] Unable to register cuBLAS factory: Attempting to register factory for plugin cuBLAS when one has already been registered\n",
      "2024-11-30 11:44:26.610483: I external/local_tsl/tsl/cuda/cudart_stub.cc:31] Could not find cuda drivers on your machine, GPU will not be used.\n",
      "2024-11-30 11:44:26.611779: I tensorflow/core/platform/cpu_feature_guard.cc:182] This TensorFlow binary is optimized to use available CPU instructions in performance-critical operations.\n",
      "To enable the following instructions: AVX2 AVX_VNNI FMA, in other operations, rebuild TensorFlow with the appropriate compiler flags.\n",
      "2024-11-30 11:44:27.275605: W tensorflow/compiler/tf2tensorrt/utils/py_utils.cc:38] TF-TRT Warning: Could not find TensorRT\n"
     ]
    },
    {
     "name": "stdout",
     "output_type": "stream",
     "text": [
      "2.15.0\n"
     ]
    }
   ],
   "source": [
    "import tensorflow as tf\n",
    "import pandas as pd\n",
    "import matplotlib\n",
    "from matplotlib import pyplot as plt\n",
    "import seaborn as sns\n",
    "import sklearn.metrics as sk_metrics\n",
    "import tempfile\n",
    "import os\n",
    "\n",
    "# Preset matplotlib figure sizes.\n",
    "matplotlib.rcParams['figure.figsize'] = [9, 6]\n",
    "\n",
    "print(tf.__version__)\n",
    "# To make the results reproducible, set the random seed value.\n",
    "random_seed = 22\n",
    "tf.random.set_seed(random_seed)"
   ]
  },
  {
   "cell_type": "code",
   "execution_count": 2,
   "metadata": {},
   "outputs": [],
   "source": [
    "test_data_path = 'test_data_ver1.csv'\n",
    "train_and_validation_data_path = 'train_data_ver3.csv'\n",
    "\n",
    "dataset = pd.read_csv(train_and_validation_data_path)\n",
    "dataset = dataset[['home_team_win', 'home_batting_batting_avg_10RA', 'home_batting_onbase_perc_10RA', 'home_batting_onbase_plus_slugging_10RA', 'home_batting_leverage_index_avg_10RA', 'home_batting_RBI_10RA', 'away_batting_batting_avg_10RA', 'away_batting_onbase_perc_10RA', 'away_batting_onbase_plus_slugging_10RA', 'away_batting_leverage_index_avg_10RA', 'away_batting_RBI_10RA', 'home_pitching_earned_run_avg_10RA', 'home_pitching_SO_batters_faced_10RA', 'home_pitching_H_batters_faced_10RA', 'home_pitching_BB_batters_faced_10RA', 'away_pitching_earned_run_avg_10RA', 'away_pitching_SO_batters_faced_10RA', 'away_pitching_H_batters_faced_10RA', 'away_pitching_BB_batters_faced_10RA', 'home_pitcher_earned_run_avg_10RA', 'home_pitcher_SO_batters_faced_10RA', 'home_pitcher_H_batters_faced_10RA', 'home_pitcher_BB_batters_faced_10RA', 'away_pitcher_earned_run_avg_10RA', 'away_pitcher_SO_batters_faced_10RA', 'away_pitcher_H_batters_faced_10RA', 'away_pitcher_BB_batters_faced_10RA', 'home_batting_leverage_index_avg_mean', 'home_batting_leverage_index_avg_std', 'home_batting_leverage_index_avg_skew', 'home_batting_wpa_bat_mean', 'home_batting_wpa_bat_std', 'home_batting_wpa_bat_skew', 'away_batting_leverage_index_avg_mean', 'away_batting_leverage_index_avg_std', 'away_batting_leverage_index_avg_skew', 'away_batting_wpa_bat_mean', 'away_batting_wpa_bat_std', 'away_batting_wpa_bat_skew', 'home_pitching_earned_run_avg_mean', 'home_pitching_earned_run_avg_std', 'home_pitching_earned_run_avg_skew', 'home_pitching_SO_batters_faced_mean', 'home_pitching_SO_batters_faced_std', 'home_pitching_SO_batters_faced_skew', 'home_pitching_H_batters_faced_mean', 'home_pitching_H_batters_faced_std', 'home_pitching_H_batters_faced_skew', 'home_pitching_BB_batters_faced_mean', 'home_pitching_BB_batters_faced_std', 'home_pitching_BB_batters_faced_skew', 'home_pitching_leverage_index_avg_mean', 'home_pitching_leverage_index_avg_std', 'home_pitching_leverage_index_avg_skew', 'home_pitching_wpa_def_mean', 'home_pitching_wpa_def_std', 'home_pitching_wpa_def_skew', 'away_pitching_earned_run_avg_mean', 'away_pitching_earned_run_avg_std', 'away_pitching_earned_run_avg_skew', 'away_pitching_SO_batters_faced_mean', 'away_pitching_SO_batters_faced_std', 'away_pitching_SO_batters_faced_skew', 'away_pitching_H_batters_faced_mean', 'away_pitching_H_batters_faced_std', 'away_pitching_H_batters_faced_skew', 'away_pitching_BB_batters_faced_mean', 'away_pitching_BB_batters_faced_std', 'away_pitching_BB_batters_faced_skew', 'away_pitching_leverage_index_avg_mean', 'away_pitching_leverage_index_avg_std', 'away_pitching_leverage_index_avg_skew', 'away_pitching_wpa_def_mean', 'away_pitching_wpa_def_std', 'away_pitching_wpa_def_skew', 'home_pitcher_earned_run_avg_mean', 'home_pitcher_earned_run_avg_std', 'home_pitcher_earned_run_avg_skew', 'home_pitcher_leverage_index_avg_mean', 'home_pitcher_leverage_index_avg_std', 'home_pitcher_leverage_index_avg_skew', 'home_pitcher_wpa_def_mean', 'home_pitcher_wpa_def_std', 'home_pitcher_wpa_def_skew', 'away_pitcher_earned_run_avg_mean', 'away_pitcher_earned_run_avg_std', 'away_pitcher_earned_run_avg_skew', 'away_pitcher_leverage_index_avg_mean', 'away_pitcher_leverage_index_avg_std', 'away_pitcher_leverage_index_avg_skew', 'away_pitcher_wpa_def_mean', 'away_pitcher_wpa_def_std', 'away_pitcher_wpa_def_skew']]"
   ]
  },
  {
   "cell_type": "code",
   "execution_count": 3,
   "metadata": {},
   "outputs": [],
   "source": [
    "class LogisticRegressionModel(tf.keras.Model):\n",
    "    def __init__(self):\n",
    "        super(LogisticRegressionModel, self).__init__()\n",
    "        self.dense = tf.keras.layers.Dense(1, activation='sigmoid')\n",
    "\n",
    "    def call(self, inputs):\n",
    "        return self.dense(inputs)\n",
    "  "
   ]
  },
  {
   "cell_type": "code",
   "execution_count": 4,
   "metadata": {},
   "outputs": [],
   "source": [
    "def cross_validation(num_chunks: int):\n",
    "    chunk_size = len(dataset) // num_chunks\n",
    "    chunks = [dataset.iloc[i * chunk_size:(i + 1) * chunk_size] for i in range(num_chunks)]\n",
    "    # Handle any remaining rows (if the dataset isn't perfectly divisible)\n",
    "    if len(dataset) % num_chunks != 0:\n",
    "        chunks[-1] = pd.concat([chunks[-1], dataset.iloc[num_chunks * chunk_size:]])\n",
    "\n",
    "    best_accuracy, best_loss, best_model = -1, -1, -1\n",
    "\n",
    "    for v in range(num_chunks):\n",
    "        validation_dataset = chunks[v]\n",
    "        train_dataset = dataset.drop(chunks[v].index)\n",
    "\n",
    "        # Split the features and the target values\n",
    "        x_train = train_dataset.drop('home_team_win', axis=1)\n",
    "        y_train = train_dataset['home_team_win']\n",
    "        x_validation = validation_dataset.drop('home_team_win', axis=1)\n",
    "        y_validation = validation_dataset['home_team_win']\n",
    "\n",
    "        # Convert the features and the target values to TensorFlow tensors\n",
    "        x_train = tf.constant(x_train, dtype=tf.float64)\n",
    "        y_train = tf.constant(y_train, dtype=tf.float64)\n",
    "        x_validation = tf.constant(x_validation, dtype=tf.float64)\n",
    "        y_validation = tf.constant(y_validation, dtype=tf.float64)\n",
    "\n",
    "        # Instantiate the model\n",
    "        model = LogisticRegressionModel()\n",
    "\n",
    "        # Compile the model\n",
    "        model.compile(optimizer=tf.keras.optimizers.SGD(learning_rate=0.01),\n",
    "                    loss=tf.keras.losses.BinaryCrossentropy(),\n",
    "                    metrics=['accuracy'])\n",
    "        \n",
    "        model.fit(x_train, y_train, epochs=5, batch_size=1)\n",
    "        loss, accuracy = model.evaluate(x_validation, y_validation)\n",
    "        print(f\"Loss: {loss}, Accuracy: {accuracy}\")\n",
    "\n",
    "        if best_accuracy == -1 or accuracy > best_accuracy:\n",
    "            best_accuracy = accuracy\n",
    "            best_loss = loss\n",
    "            best_model = model\n",
    "\n",
    "    return best_accuracy, best_loss, best_model\n",
    "\n"
   ]
  },
  {
   "cell_type": "code",
   "execution_count": 5,
   "metadata": {},
   "outputs": [
    {
     "name": "stdout",
     "output_type": "stream",
     "text": [
      "Epoch 1/5\n",
      "8854/8854 [==============================] - 7s 820us/step - loss: 0.7769 - accuracy: 0.5217\n",
      "Epoch 2/5\n",
      "8854/8854 [==============================] - 7s 845us/step - loss: 0.7663 - accuracy: 0.5381\n",
      "Epoch 3/5\n",
      "8854/8854 [==============================] - 8s 872us/step - loss: 0.7678 - accuracy: 0.5311\n",
      "Epoch 4/5\n",
      "8854/8854 [==============================] - 7s 835us/step - loss: 0.7659 - accuracy: 0.5313\n",
      "Epoch 5/5\n",
      "8854/8854 [==============================] - 8s 870us/step - loss: 0.7698 - accuracy: 0.5278\n",
      "70/70 [==============================] - 0s 1ms/step - loss: 0.7789 - accuracy: 0.5138\n",
      "Loss: 0.7789482474327087, Accuracy: 0.5137822031974792\n",
      "Epoch 1/5\n",
      "8854/8854 [==============================] - 8s 868us/step - loss: 0.7697 - accuracy: 0.5273\n",
      "Epoch 2/5\n",
      "8854/8854 [==============================] - 7s 838us/step - loss: 0.7661 - accuracy: 0.5295\n",
      "Epoch 3/5\n",
      "8854/8854 [==============================] - 7s 810us/step - loss: 0.7742 - accuracy: 0.5204\n",
      "Epoch 4/5\n",
      "8854/8854 [==============================] - 7s 833us/step - loss: 0.7663 - accuracy: 0.5309\n",
      "Epoch 5/5\n",
      "8854/8854 [==============================] - 7s 811us/step - loss: 0.7654 - accuracy: 0.5262\n",
      "70/70 [==============================] - 0s 958us/step - loss: 0.8044 - accuracy: 0.5084\n",
      "Loss: 0.8043980002403259, Accuracy: 0.5083596706390381\n",
      "Epoch 1/5\n",
      "8854/8854 [==============================] - 7s 811us/step - loss: 0.7781 - accuracy: 0.5164\n",
      "Epoch 2/5\n",
      "8854/8854 [==============================] - 7s 842us/step - loss: 0.7683 - accuracy: 0.5307\n",
      "Epoch 3/5\n",
      "8854/8854 [==============================] - 8s 854us/step - loss: 0.7746 - accuracy: 0.5160\n",
      "Epoch 4/5\n",
      "8854/8854 [==============================] - 7s 841us/step - loss: 0.7708 - accuracy: 0.5294\n",
      "Epoch 5/5\n",
      "8854/8854 [==============================] - 7s 832us/step - loss: 0.7694 - accuracy: 0.5254\n",
      "70/70 [==============================] - 0s 1ms/step - loss: 0.7601 - accuracy: 0.5323\n",
      "Loss: 0.760077714920044, Accuracy: 0.5323090553283691\n",
      "Epoch 1/5\n",
      "8854/8854 [==============================] - 7s 818us/step - loss: 0.7780 - accuracy: 0.5184\n",
      "Epoch 2/5\n",
      "8854/8854 [==============================] - 9s 994us/step - loss: 0.7711 - accuracy: 0.5224\n",
      "Epoch 3/5\n",
      "8854/8854 [==============================] - 8s 890us/step - loss: 0.7700 - accuracy: 0.5277\n",
      "Epoch 4/5\n",
      "8854/8854 [==============================] - 8s 909us/step - loss: 0.7707 - accuracy: 0.5225\n",
      "Epoch 5/5\n",
      "8854/8854 [==============================] - 8s 884us/step - loss: 0.7684 - accuracy: 0.5295\n",
      "70/70 [==============================] - 0s 1ms/step - loss: 0.7626 - accuracy: 0.5174\n",
      "Loss: 0.7625808119773865, Accuracy: 0.5173972249031067\n",
      "Epoch 1/5\n",
      "8852/8852 [==============================] - 8s 852us/step - loss: 0.7773 - accuracy: 0.5238\n",
      "Epoch 2/5\n",
      "8852/8852 [==============================] - 8s 869us/step - loss: 0.7634 - accuracy: 0.5338\n",
      "Epoch 3/5\n",
      "8852/8852 [==============================] - 7s 796us/step - loss: 0.7717 - accuracy: 0.5159\n",
      "Epoch 4/5\n",
      "8852/8852 [==============================] - 7s 792us/step - loss: 0.7697 - accuracy: 0.5276\n",
      "Epoch 5/5\n",
      "8852/8852 [==============================] - 8s 864us/step - loss: 0.7682 - accuracy: 0.5330\n",
      "70/70 [==============================] - 0s 1ms/step - loss: 0.7900 - accuracy: 0.5201\n",
      "Loss: 0.7900311350822449, Accuracy: 0.5200902819633484\n",
      "Best accuracy: 0.5323090553283691, Best loss: 0.760077714920044\n"
     ]
    }
   ],
   "source": [
    "best_accuracy, best_loss, best_model = cross_validation(5)\n",
    "print(f\"Best accuracy: {best_accuracy}, Best loss: {best_loss}\")"
   ]
  }
 ],
 "metadata": {
  "kernelspec": {
   "display_name": "Python 3",
   "language": "python",
   "name": "python3"
  },
  "language_info": {
   "codemirror_mode": {
    "name": "ipython",
    "version": 3
   },
   "file_extension": ".py",
   "mimetype": "text/x-python",
   "name": "python",
   "nbconvert_exporter": "python",
   "pygments_lexer": "ipython3",
   "version": "3.10.12"
  }
 },
 "nbformat": 4,
 "nbformat_minor": 2
}

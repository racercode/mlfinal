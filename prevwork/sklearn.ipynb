{
 "cells": [
  {
   "cell_type": "code",
   "execution_count": 1,
   "metadata": {},
   "outputs": [
    {
     "name": "stderr",
     "output_type": "stream",
     "text": [
      "2024-12-07 23:31:33.192310: I tensorflow/core/util/port.cc:113] oneDNN custom operations are on. You may see slightly different numerical results due to floating-point round-off errors from different computation orders. To turn them off, set the environment variable `TF_ENABLE_ONEDNN_OPTS=0`.\n",
      "2024-12-07 23:31:33.266192: I external/local_tsl/tsl/cuda/cudart_stub.cc:31] Could not find cuda drivers on your machine, GPU will not be used.\n",
      "2024-12-07 23:31:33.616502: E external/local_xla/xla/stream_executor/cuda/cuda_dnn.cc:9261] Unable to register cuDNN factory: Attempting to register factory for plugin cuDNN when one has already been registered\n",
      "2024-12-07 23:31:33.616549: E external/local_xla/xla/stream_executor/cuda/cuda_fft.cc:607] Unable to register cuFFT factory: Attempting to register factory for plugin cuFFT when one has already been registered\n",
      "2024-12-07 23:31:33.680960: E external/local_xla/xla/stream_executor/cuda/cuda_blas.cc:1515] Unable to register cuBLAS factory: Attempting to register factory for plugin cuBLAS when one has already been registered\n",
      "2024-12-07 23:31:33.811460: I external/local_tsl/tsl/cuda/cudart_stub.cc:31] Could not find cuda drivers on your machine, GPU will not be used.\n",
      "2024-12-07 23:31:33.813574: I tensorflow/core/platform/cpu_feature_guard.cc:182] This TensorFlow binary is optimized to use available CPU instructions in performance-critical operations.\n",
      "To enable the following instructions: AVX2 AVX_VNNI FMA, in other operations, rebuild TensorFlow with the appropriate compiler flags.\n",
      "2024-12-07 23:31:34.962321: W tensorflow/compiler/tf2tensorrt/utils/py_utils.cc:38] TF-TRT Warning: Could not find TensorRT\n"
     ]
    },
    {
     "name": "stdout",
     "output_type": "stream",
     "text": [
      "2.15.0\n"
     ]
    }
   ],
   "source": [
    "import tensorflow as tf\n",
    "import pandas as pd\n",
    "import matplotlib\n",
    "from matplotlib import pyplot as plt\n",
    "import seaborn as sns\n",
    "import sklearn.metrics as sk_metrics\n",
    "import tempfile\n",
    "import os\n",
    "from sklearn.preprocessing import PolynomialFeatures\n",
    "from sklearn.metrics import accuracy_score, classification_report\n",
    "from sklearn.linear_model import LogisticRegression\n",
    "\n",
    "pd.options.display.max_rows = 100\n",
    "# Preset matplotlib figure sizes.\n",
    "matplotlib.rcParams['figure.figsize'] = [9, 6]\n",
    "\n",
    "print(tf.__version__)\n",
    "# To make the results reproducible, set the random seed value.\n",
    "random_seed = 22\n",
    "tf.random.set_seed(random_seed)"
   ]
  },
  {
   "cell_type": "code",
   "execution_count": 619,
   "metadata": {},
   "outputs": [],
   "source": [
    "chosed_features = [\n",
    "    'home_batting_onbase_plus_slugging_10RA', 'away_batting_onbase_plus_slugging_10RA', \n",
    "    'home_team_wins_mean', 'away_team_wins_mean', \n",
    "    'home_team_wins_skew', 'away_team_wins_skew',\n",
    "    'home_batting_onbase_plus_slugging_mean', 'away_batting_onbase_plus_slugging_mean',\n",
    "    'home_batting_onbase_plus_slugging_skew', 'away_batting_onbase_plus_slugging_skew', \n",
    "    'home_pitching_earned_run_avg_mean', 'away_pitching_earned_run_avg_mean', \n",
    "    'home_pitching_earned_run_avg_skew', 'away_pitching_earned_run_avg_skew', \n",
    "    'home_pitcher_earned_run_avg_10RA', 'away_pitcher_earned_run_avg_10RA',\n",
    "    'home_batting_wpa_bat_mean', 'away_batting_wpa_bat_mean',\n",
    "    'home_batting_wpa_bat_skew', 'away_batting_wpa_bat_skew',\n",
    "    'home_batting_onbase_perc_mean', 'away_batting_onbase_perc_mean',\n",
    "    'home_batting_onbase_perc_skew', 'away_batting_onbase_perc_skew',\n",
    "    'home_pitching_H_batters_faced_10RA', 'away_pitching_H_batters_faced_10RA',\n",
    "]"
   ]
  },
  {
   "cell_type": "code",
   "execution_count": 620,
   "metadata": {},
   "outputs": [],
   "source": [
    "test_data_path = 'test_data_ver1.csv'\n",
    "train_and_validation_data_path = 'train_data_ver3.csv'\n",
    "\n",
    "dataset = pd.read_csv(train_and_validation_data_path)\n",
    "#dataset = dataset.drop(['id','home_team_abbr','away_team_abbr','is_night_game','home_pitcher','away_pitcher','home_team_rest','away_team_rest','home_pitcher_rest','away_pitcher_rest','season'], axis=1)\n",
    "dataset = dataset[chosed_features + ['home_team_win']]"
   ]
  },
  {
   "cell_type": "code",
   "execution_count": 621,
   "metadata": {},
   "outputs": [],
   "source": [
    "def cross_validation(num_chunks: int):\n",
    "    chunk_size = len(dataset) // num_chunks\n",
    "    chunks = [dataset.iloc[i * chunk_size:(i + 1) * chunk_size] for i in range(num_chunks)]\n",
    "    # Handle any remaining rows (if the dataset isn't perfectly divisible)\n",
    "    if len(dataset) % num_chunks != 0:\n",
    "        chunks[-1] = pd.concat([chunks[-1], dataset.iloc[num_chunks * chunk_size:]])\n",
    "\n",
    "    best_accuracy, best_loss, best_model = -1, -1, -1\n",
    "\n",
    "    for v in range(num_chunks):\n",
    "        validation_dataset = chunks[v]\n",
    "        train_dataset = dataset.drop(chunks[v].index)\n",
    "\n",
    "        X_train = train_dataset.drop('home_team_win', axis=1)\n",
    "        y_train = train_dataset['home_team_win']\n",
    "        X_validation = validation_dataset.drop('home_team_win', axis=1)\n",
    "        y_validation = validation_dataset['home_team_win']\n",
    "\n",
    "        poly = PolynomialFeatures(degree=3, include_bias=False)  # Degree 3 polynomial\n",
    "        X_train_poly = poly.fit_transform(X_train)\n",
    "        X_validation_poly = poly.transform(X_validation)\n",
    "\n",
    "        # Perform logistic regression\n",
    "        regularization_strength = 0.0001\n",
    "        log_reg = LogisticRegression(C=regularization_strength, max_iter=10000, random_state=random_seed)\n",
    "        log_reg.fit(X_train_poly, y_train)\n",
    "\n",
    "        # Make predictions\n",
    "        y_train_pred = log_reg.predict(X_train_poly)\n",
    "        y_validation_pred = log_reg.predict(X_validation_poly)\n",
    "\n",
    "        # Evaluate the model\n",
    "        train_acc = accuracy_score(y_train, y_train_pred)\n",
    "        validation_acc = accuracy_score(y_validation, y_validation_pred)\n",
    "\n",
    "        print(\"Training Accuracy:\", train_acc)\n",
    "        print(\"Testing Accuracy:\", validation_acc)\n",
    "\n",
    "        if best_accuracy == -1 or validation_acc > best_accuracy:\n",
    "            best_accuracy = validation_acc\n",
    "            best_model = log_reg\n",
    "            best_loss = log_reg.score(X_validation_poly, y_validation)\n",
    "\n",
    "    return best_accuracy, best_loss, best_model"
   ]
  },
  {
   "cell_type": "code",
   "execution_count": 622,
   "metadata": {},
   "outputs": [
    {
     "name": "stdout",
     "output_type": "stream",
     "text": [
      "Training Accuracy: 0.6327677943981528\n",
      "Testing Accuracy: 0.5162748643761302\n",
      "Training Accuracy: 0.6311615299668708\n",
      "Testing Accuracy: 0.5379746835443038\n",
      "Training Accuracy: 0.6317638791286015\n",
      "Testing Accuracy: 0.5280289330922242\n",
      "Training Accuracy: 0.6269450858347555\n",
      "Testing Accuracy: 0.5497287522603979\n",
      "Training Accuracy: 0.6315630960746913\n",
      "Testing Accuracy: 0.5397830018083183\n",
      "Training Accuracy: 0.6282501756851722\n",
      "Testing Accuracy: 0.5415913200723327\n",
      "Training Accuracy: 0.627346651942576\n",
      "Testing Accuracy: 0.5488245931283906\n",
      "Training Accuracy: 0.6283505672121273\n",
      "Testing Accuracy: 0.566003616636528\n",
      "Training Accuracy: 0.6297560485894991\n",
      "Testing Accuracy: 0.5343580470162749\n",
      "Training Accuracy: 0.6290938316254772\n",
      "Testing Accuracy: 0.5292003593890386\n",
      "0.566003616636528\n"
     ]
    }
   ],
   "source": [
    "best_accuracy, best_loss, best_model = cross_validation(10)\n",
    "print(best_accuracy)"
   ]
  },
  {
   "cell_type": "code",
   "execution_count": 623,
   "metadata": {},
   "outputs": [],
   "source": [
    "test_data_path = 'test_data_ver1.csv'\n",
    "\n",
    "test_dataset = pd.read_csv(test_data_path)\n",
    "#dataset = dataset.drop(['id','home_team_abbr','away_team_abbr','is_night_game','home_pitcher','away_pitcher','home_team_rest','away_team_rest','home_pitcher_rest','away_pitcher_rest','season'], axis=1)\n",
    "test_dataset = test_dataset[chosed_features]\n",
    "\n",
    "X_test = test_dataset\n",
    "\n",
    "poly = PolynomialFeatures(degree=3, include_bias=False)  # Degree 3 polynomial\n",
    "X_test_poly = poly.fit_transform(X_test)\n",
    "# Make predictions\n",
    "y_pred = best_model.predict(X_test_poly)\n",
    "\n",
    "results = pd.DataFrame({\"home_team_win\": [True if i == 1 else False for i in y_pred]})\n",
    "results.to_csv(\"predictions_with_ids.csv\", index=True)\n",
    "\n"
   ]
  }
 ],
 "metadata": {
  "kernelspec": {
   "display_name": "Python 3",
   "language": "python",
   "name": "python3"
  },
  "language_info": {
   "codemirror_mode": {
    "name": "ipython",
    "version": 3
   },
   "file_extension": ".py",
   "mimetype": "text/x-python",
   "name": "python",
   "nbconvert_exporter": "python",
   "pygments_lexer": "ipython3",
   "version": "3.10.12"
  }
 },
 "nbformat": 4,
 "nbformat_minor": 2
}
